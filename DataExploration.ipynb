{
 "cells": [
  {
   "cell_type": "markdown",
   "metadata": {},
   "source": [
    "# DSS x IBM Datathon 11.8-11.9\n",
    "Team: TRAP the Data\n",
    "\n",
    "By: Rowan\n",
    "\n",
    "Team Members: Tanvi, Pooja, Ashley, Dhruv"
   ]
  },
  {
   "cell_type": "markdown",
   "metadata": {},
   "source": [
    "**Note:** EDA Summaries at the very end!"
   ]
  },
  {
   "cell_type": "code",
   "execution_count": 1,
   "metadata": {},
   "outputs": [],
   "source": [
    "#import libraries\n",
    "import pandas as pd \n",
    "import numpy as np\n",
    "import seaborn as sns\n",
    "import matplotlib\n",
    "import matplotlib.pyplot as plt"
   ]
  },
  {
   "cell_type": "code",
   "execution_count": 2,
   "metadata": {},
   "outputs": [],
   "source": [
    "#download data\n",
    "crimes = pd.read_csv(\"Berkeley_crime_2018.csv\")"
   ]
  },
  {
   "cell_type": "code",
   "execution_count": 3,
   "metadata": {
    "scrolled": true
   },
   "outputs": [
    {
     "data": {
      "text/html": [
       "<div>\n",
       "<style scoped>\n",
       "    .dataframe tbody tr th:only-of-type {\n",
       "        vertical-align: middle;\n",
       "    }\n",
       "\n",
       "    .dataframe tbody tr th {\n",
       "        vertical-align: top;\n",
       "    }\n",
       "\n",
       "    .dataframe thead th {\n",
       "        text-align: right;\n",
       "    }\n",
       "</style>\n",
       "<table border=\"1\" class=\"dataframe\">\n",
       "  <thead>\n",
       "    <tr style=\"text-align: right;\">\n",
       "      <th></th>\n",
       "      <th>CASENO</th>\n",
       "      <th>OFFENSE</th>\n",
       "      <th>CVLEGEND</th>\n",
       "      <th>BLKADDR</th>\n",
       "      <th>City</th>\n",
       "      <th>State</th>\n",
       "      <th>Day</th>\n",
       "      <th>Lat</th>\n",
       "      <th>Lon</th>\n",
       "      <th>timestamp</th>\n",
       "    </tr>\n",
       "  </thead>\n",
       "  <tbody>\n",
       "    <tr>\n",
       "      <th>0</th>\n",
       "      <td>17076632</td>\n",
       "      <td>BURGLARY AUTO</td>\n",
       "      <td>BURGLARY - VEHICLE</td>\n",
       "      <td>1300 SAN PABLO AVE</td>\n",
       "      <td>Berkeley</td>\n",
       "      <td>CA</td>\n",
       "      <td>Monday</td>\n",
       "      <td>37.880262</td>\n",
       "      <td>-122.295809</td>\n",
       "      <td>2017-12-18 09:45:00</td>\n",
       "    </tr>\n",
       "    <tr>\n",
       "      <th>1</th>\n",
       "      <td>17092227</td>\n",
       "      <td>THEFT MISD. (UNDER $950)</td>\n",
       "      <td>LARCENY</td>\n",
       "      <td>1600 SHATTUCK AVE</td>\n",
       "      <td>Berkeley</td>\n",
       "      <td>CA</td>\n",
       "      <td>Monday</td>\n",
       "      <td>37.878112</td>\n",
       "      <td>-122.269114</td>\n",
       "      <td>2017-10-30 10:25:00</td>\n",
       "    </tr>\n",
       "    <tr>\n",
       "      <th>2</th>\n",
       "      <td>18004102</td>\n",
       "      <td>BURGLARY COMMERCIAL</td>\n",
       "      <td>BURGLARY - COMMERCIAL</td>\n",
       "      <td>1400 SHATTUCK AVE</td>\n",
       "      <td>Berkeley</td>\n",
       "      <td>CA</td>\n",
       "      <td>Saturday</td>\n",
       "      <td>37.881957</td>\n",
       "      <td>-122.269551</td>\n",
       "      <td>2018-01-20 05:23:00</td>\n",
       "    </tr>\n",
       "    <tr>\n",
       "      <th>3</th>\n",
       "      <td>17065730</td>\n",
       "      <td>ALCOHOL OFFENSE</td>\n",
       "      <td>LIQUOR LAW VIOLATION</td>\n",
       "      <td>SOLANO AVENUE &amp; COLUSA AVE</td>\n",
       "      <td>Berkeley</td>\n",
       "      <td>CA</td>\n",
       "      <td>Saturday</td>\n",
       "      <td>37.891368</td>\n",
       "      <td>-122.279257</td>\n",
       "      <td>2017-10-28 20:08:00</td>\n",
       "    </tr>\n",
       "    <tr>\n",
       "      <th>4</th>\n",
       "      <td>18000630</td>\n",
       "      <td>BURGLARY AUTO</td>\n",
       "      <td>BURGLARY - VEHICLE</td>\n",
       "      <td>800 POTTER ST</td>\n",
       "      <td>Berkeley</td>\n",
       "      <td>CA</td>\n",
       "      <td>Wednesday</td>\n",
       "      <td>37.851255</td>\n",
       "      <td>-122.292509</td>\n",
       "      <td>2018-01-03 19:00:00</td>\n",
       "    </tr>\n",
       "  </tbody>\n",
       "</table>\n",
       "</div>"
      ],
      "text/plain": [
       "     CASENO                   OFFENSE               CVLEGEND  \\\n",
       "0  17076632             BURGLARY AUTO     BURGLARY - VEHICLE   \n",
       "1  17092227  THEFT MISD. (UNDER $950)                LARCENY   \n",
       "2  18004102       BURGLARY COMMERCIAL  BURGLARY - COMMERCIAL   \n",
       "3  17065730           ALCOHOL OFFENSE   LIQUOR LAW VIOLATION   \n",
       "4  18000630             BURGLARY AUTO     BURGLARY - VEHICLE   \n",
       "\n",
       "                      BLKADDR      City State        Day        Lat  \\\n",
       "0          1300 SAN PABLO AVE  Berkeley    CA     Monday  37.880262   \n",
       "1           1600 SHATTUCK AVE  Berkeley    CA     Monday  37.878112   \n",
       "2           1400 SHATTUCK AVE  Berkeley    CA   Saturday  37.881957   \n",
       "3  SOLANO AVENUE & COLUSA AVE  Berkeley    CA   Saturday  37.891368   \n",
       "4               800 POTTER ST  Berkeley    CA  Wednesday  37.851255   \n",
       "\n",
       "          Lon            timestamp  \n",
       "0 -122.295809  2017-12-18 09:45:00  \n",
       "1 -122.269114  2017-10-30 10:25:00  \n",
       "2 -122.269551  2018-01-20 05:23:00  \n",
       "3 -122.279257  2017-10-28 20:08:00  \n",
       "4 -122.292509  2018-01-03 19:00:00  "
      ]
     },
     "execution_count": 3,
     "metadata": {},
     "output_type": "execute_result"
    }
   ],
   "source": [
    "#seeing the data\n",
    "crimes.head()"
   ]
  },
  {
   "cell_type": "code",
   "execution_count": 4,
   "metadata": {},
   "outputs": [
    {
     "name": "stdout",
     "output_type": "stream",
     "text": [
      "<class 'pandas.core.frame.DataFrame'>\n",
      "RangeIndex: 5030 entries, 0 to 5029\n",
      "Data columns (total 10 columns):\n",
      "CASENO       5030 non-null int64\n",
      "OFFENSE      5030 non-null object\n",
      "CVLEGEND     5030 non-null object\n",
      "BLKADDR      5030 non-null object\n",
      "City         5030 non-null object\n",
      "State        5030 non-null object\n",
      "Day          5030 non-null object\n",
      "Lat          5030 non-null float64\n",
      "Lon          5030 non-null float64\n",
      "timestamp    5030 non-null object\n",
      "dtypes: float64(2), int64(1), object(7)\n",
      "memory usage: 393.0+ KB\n"
     ]
    },
    {
     "data": {
      "text/plain": [
       "(None,              CASENO          Lat          Lon\n",
       " count  5.030000e+03  5030.000000  5030.000000\n",
       " mean   1.727231e+07    37.868295  -122.276276\n",
       " std    3.916130e+05     0.010128     0.016120\n",
       " min    1.704742e+07    37.846196  -122.317566\n",
       " 25%    1.706044e+07    37.862024  -122.289632\n",
       " 50%    1.707292e+07    37.868346  -122.271133\n",
       " 75%    1.709238e+07    37.873250  -122.265441\n",
       " max    1.809030e+07    37.905504  -122.221794)"
      ]
     },
     "execution_count": 4,
     "metadata": {},
     "output_type": "execute_result"
    }
   ],
   "source": [
    "#data descriptions\n",
    "crimes.info(), crimes.describe()"
   ]
  },
  {
   "cell_type": "code",
   "execution_count": 5,
   "metadata": {
    "scrolled": false
   },
   "outputs": [
    {
     "data": {
      "text/plain": [
       "LARCENY                   1086\n",
       "BURGLARY - VEHICLE         996\n",
       "VANDALISM                  390\n",
       "DISORDERLY CONDUCT         339\n",
       "ASSAULT                    317\n",
       "MOTOR VEHICLE THEFT        288\n",
       "BURGLARY - RESIDENTIAL     281\n",
       "DRUG VIOLATION             219\n",
       "FRAUD                      218\n",
       "ROBBERY                    173\n",
       "LARCENY - FROM VEHICLE     121\n",
       "LIQUOR LAW VIOLATION       113\n",
       "BURGLARY - COMMERCIAL      108\n",
       "FAMILY OFFENSE             101\n",
       "SEX CRIME                   62\n",
       "MISSING PERSON              58\n",
       "WEAPONS OFFENSE             57\n",
       "NOISE VIOLATION             39\n",
       "ARSON                       30\n",
       "RECOVERED VEHICLE           26\n",
       "ALL OTHER OFFENSES           7\n",
       "KIDNAPPING                   1\n",
       "Name: CVLEGEND, dtype: int64"
      ]
     },
     "execution_count": 5,
     "metadata": {},
     "output_type": "execute_result"
    }
   ],
   "source": [
    "crimes['CVLEGEND'].value_counts()"
   ]
  },
  {
   "cell_type": "code",
   "execution_count": 6,
   "metadata": {
    "scrolled": false
   },
   "outputs": [
    {
     "data": {
      "text/plain": [
       "BURGLARY AUTO               0.198012\n",
       "THEFT MISD. (UNDER $950)    0.160040\n",
       "VANDALISM                   0.077535\n",
       "DISTURBANCE                 0.067197\n",
       "VEHICLE STOLEN              0.057256\n",
       "BURGLARY RESIDENTIAL        0.055865\n",
       "THEFT FELONY (OVER $950)    0.050497\n",
       "ASSAULT/BATTERY MISD.       0.048111\n",
       "NARCOTICS                   0.043539\n",
       "ROBBERY                     0.034394\n",
       "THEFT FROM AUTO             0.024056\n",
       "ALCOHOL OFFENSE             0.022465\n",
       "IDENTITY THEFT              0.022068\n",
       "BURGLARY COMMERCIAL         0.021471\n",
       "FRAUD/FORGERY               0.021272\n",
       "DOMESTIC VIOLENCE           0.020080\n",
       "ASSAULT/BATTERY FEL.        0.014911\n",
       "MISSING ADULT               0.008946\n",
       "2ND RESPONSE                0.007555\n",
       "SEXUAL ASSAULT FEL.         0.007157\n",
       "GUN/WEAPON                  0.006163\n",
       "ARSON                       0.005964\n",
       "THEFT FROM PERSON           0.005368\n",
       "BRANDISHING                 0.005169\n",
       "SEXUAL ASSAULT MISD.        0.005169\n",
       "VEHICLE RECOVERED           0.005169\n",
       "MISSING JUVENILE            0.002584\n",
       "MUNICIPAL CODE              0.001392\n",
       "DISTURBANCE - NOISE         0.000199\n",
       "VICE                        0.000199\n",
       "KIDNAPPING                  0.000199\n",
       "Name: OFFENSE, dtype: float64"
      ]
     },
     "execution_count": 6,
     "metadata": {},
     "output_type": "execute_result"
    }
   ],
   "source": [
    "#types of offenses\n",
    "crimes['OFFENSE'].value_counts()/len(crimes)"
   ]
  },
  {
   "cell_type": "markdown",
   "metadata": {},
   "source": [
    "The top 5 crime types make up of about 55% all crimes (more than half)."
   ]
  },
  {
   "cell_type": "markdown",
   "metadata": {},
   "source": [
    "## Exploratory Data Analysis (EDA)"
   ]
  },
  {
   "cell_type": "code",
   "execution_count": 7,
   "metadata": {
    "scrolled": false
   },
   "outputs": [
    {
     "data": {
      "image/png": "[encoded data removed]",
      "text/plain": [
       "<Figure size 864x576 with 1 Axes>"
      ]
     },
     "metadata": {
      "needs_background": "light"
     },
     "output_type": "display_data"
    }
   ],
   "source": [
    "plt.figure(figsize =  (12,8))\n",
    "plot1 = sns.countplot(data = crimes, y = 'OFFENSE')"
   ]
  },
  {
   "cell_type": "code",
   "execution_count": 8,
   "metadata": {},
   "outputs": [
    {
     "data": {
      "image/png": "[encoded data removed]",
      "text/plain": [
       "<Figure size 864x576 with 1 Axes>"
      ]
     },
     "metadata": {
      "needs_background": "light"
     },
     "output_type": "display_data"
    }
   ],
   "source": [
    "plt.figure(figsize =  (12,8))\n",
    "plot1 = sns.countplot(data = crimes, y = 'CVLEGEND')"
   ]
  },
  {
   "cell_type": "code",
   "execution_count": 9,
   "metadata": {},
   "outputs": [
    {
     "data": {
      "text/plain": [
       "array(['Monday', 'Saturday', 'Wednesday', 'Sunday', 'Tuesday', 'Thursday',\n",
       "       'Friday'], dtype=object)"
      ]
     },
     "execution_count": 9,
     "metadata": {},
     "output_type": "execute_result"
    }
   ],
   "source": [
    "crimes['Day'].unique()"
   ]
  },
  {
   "cell_type": "code",
   "execution_count": 49,
   "metadata": {
    "scrolled": false
   },
   "outputs": [
    {
     "data": {
      "text/plain": [
       "Text(0.5, 1.0, 'Crime by Day of the Week')"
      ]
     },
     "execution_count": 49,
     "metadata": {},
     "output_type": "execute_result"
    },
    {
     "data": {
      "image/png": "[encoded data removed]",
      "text/plain": [
       "<Figure size 720x576 with 1 Axes>"
      ]
     },
     "metadata": {
      "needs_background": "light"
     },
     "output_type": "display_data"
    }
   ],
   "source": [
    "#proper order of days\n",
    "days = [\"Sunday\", \"Monday\", \"Tuesday\", \"Wednesday\", \"Thursday\", \"Friday\", \"Saturday\"]\n",
    "#plotting\n",
    "plt.figure(figsize = (10,8))\n",
    "crime_by_day = sns.countplot(data = crimes, x = 'Day', order = days)\n",
    "plt.xlabel(\"Day\")\n",
    "plt.ylabel(\"Number of Crimes\")\n",
    "plt.title(\"Crime by Day of the Week\")"
   ]
  },
  {
   "cell_type": "code",
   "execution_count": 11,
   "metadata": {
    "scrolled": true
   },
   "outputs": [
    {
     "data": {
      "text/plain": [
       "0.1550695825049702"
      ]
     },
     "execution_count": 11,
     "metadata": {},
     "output_type": "execute_result"
    }
   ],
   "source": [
    "len(crimes[crimes['Day'] == \"Wednesday\"])/len(crimes)"
   ]
  },
  {
   "cell_type": "markdown",
   "metadata": {},
   "source": [
    "**Observation:**\n",
    "\n",
    "It seems like week days have more number of crimes than weekends, with Wednesday as the most."
   ]
  },
  {
   "cell_type": "code",
   "execution_count": 12,
   "metadata": {},
   "outputs": [],
   "source": [
    "#convert time to hour of the day\n",
    "crimes['Hour'] = crimes['timestamp'].str.slice(start=11, stop = 13).astype('int')\n",
    "#drop timestamp column\n",
    "#crimes = crimes.drop(['timestamp'], axis = 1)"
   ]
  },
  {
   "cell_type": "code",
   "execution_count": 50,
   "metadata": {
    "scrolled": false
   },
   "outputs": [
    {
     "data": {
      "text/plain": [
       "Text(0.5, 1.0, 'Crimes by Hour')"
      ]
     },
     "execution_count": 50,
     "metadata": {},
     "output_type": "execute_result"
    },
    {
     "data": {
      "image/png": "[encoded data removed]",
      "text/plain": [
       "<Figure size 720x576 with 1 Axes>"
      ]
     },
     "metadata": {
      "needs_background": "light"
     },
     "output_type": "display_data"
    }
   ],
   "source": [
    "plt.figure(figsize = (10,8))\n",
    "crime_by_hour = sns.countplot(crimes['Hour'], color = 'Blue')\n",
    "plt.title('Crimes by Hour')"
   ]
  },
  {
   "cell_type": "markdown",
   "metadata": {},
   "source": [
    "**Observation**\n",
    "\n",
    "The most number of crimes occur during nighttime, also with a outlier peak at 12 PM noon.\n",
    "\n",
    "**Next step**\n",
    "\n",
    "We can see what types of crimes are common during which hours."
   ]
  },
  {
   "cell_type": "code",
   "execution_count": 14,
   "metadata": {
    "scrolled": true
   },
   "outputs": [
    {
     "data": {
      "text/html": [
       "<div>\n",
       "<style scoped>\n",
       "    .dataframe tbody tr th:only-of-type {\n",
       "        vertical-align: middle;\n",
       "    }\n",
       "\n",
       "    .dataframe tbody tr th {\n",
       "        vertical-align: top;\n",
       "    }\n",
       "\n",
       "    .dataframe thead th {\n",
       "        text-align: right;\n",
       "    }\n",
       "</style>\n",
       "<table border=\"1\" class=\"dataframe\">\n",
       "  <thead>\n",
       "    <tr style=\"text-align: right;\">\n",
       "      <th></th>\n",
       "      <th>CASENO</th>\n",
       "      <th>OFFENSE</th>\n",
       "      <th>CVLEGEND</th>\n",
       "      <th>BLKADDR</th>\n",
       "      <th>City</th>\n",
       "      <th>State</th>\n",
       "      <th>Day</th>\n",
       "      <th>Lat</th>\n",
       "      <th>Lon</th>\n",
       "      <th>timestamp</th>\n",
       "      <th>Hour</th>\n",
       "    </tr>\n",
       "  </thead>\n",
       "  <tbody>\n",
       "    <tr>\n",
       "      <th>4</th>\n",
       "      <td>18000630</td>\n",
       "      <td>BURGLARY AUTO</td>\n",
       "      <td>BURGLARY - VEHICLE</td>\n",
       "      <td>800 POTTER ST</td>\n",
       "      <td>Berkeley</td>\n",
       "      <td>CA</td>\n",
       "      <td>Wednesday</td>\n",
       "      <td>37.851255</td>\n",
       "      <td>-122.292509</td>\n",
       "      <td>2018-01-03 19:00:00</td>\n",
       "      <td>19</td>\n",
       "    </tr>\n",
       "    <tr>\n",
       "      <th>7</th>\n",
       "      <td>17092229</td>\n",
       "      <td>BURGLARY AUTO</td>\n",
       "      <td>BURGLARY - VEHICLE</td>\n",
       "      <td>1200 EUCLID AVE</td>\n",
       "      <td>Berkeley</td>\n",
       "      <td>CA</td>\n",
       "      <td>Wednesday</td>\n",
       "      <td>37.886740</td>\n",
       "      <td>-122.262299</td>\n",
       "      <td>2017-10-25 18:30:00</td>\n",
       "      <td>18</td>\n",
       "    </tr>\n",
       "    <tr>\n",
       "      <th>8</th>\n",
       "      <td>17072806</td>\n",
       "      <td>THEFT MISD. (UNDER $950)</td>\n",
       "      <td>LARCENY</td>\n",
       "      <td>1100 GLEN AVE</td>\n",
       "      <td>Berkeley</td>\n",
       "      <td>CA</td>\n",
       "      <td>Wednesday</td>\n",
       "      <td>37.887747</td>\n",
       "      <td>-122.264514</td>\n",
       "      <td>2017-11-29 12:00:00</td>\n",
       "      <td>12</td>\n",
       "    </tr>\n",
       "    <tr>\n",
       "      <th>10</th>\n",
       "      <td>17092083</td>\n",
       "      <td>BURGLARY AUTO</td>\n",
       "      <td>BURGLARY - VEHICLE</td>\n",
       "      <td>1785 FOURTH ST</td>\n",
       "      <td>Berkeley</td>\n",
       "      <td>CA</td>\n",
       "      <td>Wednesday</td>\n",
       "      <td>37.870311</td>\n",
       "      <td>-122.300756</td>\n",
       "      <td>2017-10-18 19:00:00</td>\n",
       "      <td>19</td>\n",
       "    </tr>\n",
       "    <tr>\n",
       "      <th>14</th>\n",
       "      <td>17092385</td>\n",
       "      <td>VANDALISM</td>\n",
       "      <td>VANDALISM</td>\n",
       "      <td>2450 DURANT AVE</td>\n",
       "      <td>Berkeley</td>\n",
       "      <td>CA</td>\n",
       "      <td>Wednesday</td>\n",
       "      <td>37.867668</td>\n",
       "      <td>-122.260109</td>\n",
       "      <td>2017-11-29 18:45:00</td>\n",
       "      <td>18</td>\n",
       "    </tr>\n",
       "  </tbody>\n",
       "</table>\n",
       "</div>"
      ],
      "text/plain": [
       "      CASENO                   OFFENSE            CVLEGEND          BLKADDR  \\\n",
       "4   18000630             BURGLARY AUTO  BURGLARY - VEHICLE    800 POTTER ST   \n",
       "7   17092229             BURGLARY AUTO  BURGLARY - VEHICLE  1200 EUCLID AVE   \n",
       "8   17072806  THEFT MISD. (UNDER $950)             LARCENY    1100 GLEN AVE   \n",
       "10  17092083             BURGLARY AUTO  BURGLARY - VEHICLE   1785 FOURTH ST   \n",
       "14  17092385                 VANDALISM           VANDALISM  2450 DURANT AVE   \n",
       "\n",
       "        City State        Day        Lat         Lon            timestamp  \\\n",
       "4   Berkeley    CA  Wednesday  37.851255 -122.292509  2018-01-03 19:00:00   \n",
       "7   Berkeley    CA  Wednesday  37.886740 -122.262299  2017-10-25 18:30:00   \n",
       "8   Berkeley    CA  Wednesday  37.887747 -122.264514  2017-11-29 12:00:00   \n",
       "10  Berkeley    CA  Wednesday  37.870311 -122.300756  2017-10-18 19:00:00   \n",
       "14  Berkeley    CA  Wednesday  37.867668 -122.260109  2017-11-29 18:45:00   \n",
       "\n",
       "    Hour  \n",
       "4     19  \n",
       "7     18  \n",
       "8     12  \n",
       "10    19  \n",
       "14    18  "
      ]
     },
     "execution_count": 14,
     "metadata": {},
     "output_type": "execute_result"
    }
   ],
   "source": [
    "wednesday = crimes[crimes['Day'] == 'Wednesday']\n",
    "wednesday.head()"
   ]
  },
  {
   "cell_type": "code",
   "execution_count": 15,
   "metadata": {},
   "outputs": [
    {
     "data": {
      "text/plain": [
       "BURGLARY AUTO               0.225641\n",
       "THEFT MISD. (UNDER $950)    0.160256\n",
       "VANDALISM                   0.075641\n",
       "BURGLARY RESIDENTIAL        0.069231\n",
       "DISTURBANCE                 0.066667\n",
       "THEFT FELONY (OVER $950)    0.053846\n",
       "VEHICLE STOLEN              0.048718\n",
       "ASSAULT/BATTERY MISD.       0.041026\n",
       "NARCOTICS                   0.038462\n",
       "ROBBERY                     0.034615\n",
       "FRAUD/FORGERY               0.024359\n",
       "IDENTITY THEFT              0.023077\n",
       "THEFT FROM AUTO             0.021795\n",
       "ALCOHOL OFFENSE             0.015385\n",
       "BURGLARY COMMERCIAL         0.015385\n",
       "MISSING ADULT               0.014103\n",
       "ASSAULT/BATTERY FEL.        0.014103\n",
       "DOMESTIC VIOLENCE           0.011538\n",
       "THEFT FROM PERSON           0.010256\n",
       "SEXUAL ASSAULT MISD.        0.006410\n",
       "BRANDISHING                 0.006410\n",
       "SEXUAL ASSAULT FEL.         0.006410\n",
       "ARSON                       0.005128\n",
       "GUN/WEAPON                  0.005128\n",
       "VEHICLE RECOVERED           0.002564\n",
       "2ND RESPONSE                0.001282\n",
       "MUNICIPAL CODE              0.001282\n",
       "KIDNAPPING                  0.001282\n",
       "Name: OFFENSE, dtype: float64"
      ]
     },
     "execution_count": 15,
     "metadata": {},
     "output_type": "execute_result"
    }
   ],
   "source": [
    "wednesday['OFFENSE'].value_counts()/len(wednesday)"
   ]
  },
  {
   "cell_type": "code",
   "execution_count": 51,
   "metadata": {},
   "outputs": [
    {
     "data": {
      "text/plain": [
       "Text(0.5, 1.0, 'Crimes by Hour on Wednesday')"
      ]
     },
     "execution_count": 51,
     "metadata": {},
     "output_type": "execute_result"
    },
    {
     "data": {
      "image/png": "[encoded data removed]",
      "text/plain": [
       "<Figure size 720x576 with 1 Axes>"
      ]
     },
     "metadata": {
      "needs_background": "light"
     },
     "output_type": "display_data"
    }
   ],
   "source": [
    "plt.figure(figsize = (10,8))\n",
    "crime_by_hour = sns.countplot(wednesday['Hour'], color = 'Blue')\n",
    "plt.title('Crimes by Hour on Wednesday')"
   ]
  },
  {
   "cell_type": "code",
   "execution_count": 17,
   "metadata": {},
   "outputs": [
    {
     "data": {
      "text/html": [
       "<div>\n",
       "<style scoped>\n",
       "    .dataframe tbody tr th:only-of-type {\n",
       "        vertical-align: middle;\n",
       "    }\n",
       "\n",
       "    .dataframe tbody tr th {\n",
       "        vertical-align: top;\n",
       "    }\n",
       "\n",
       "    .dataframe thead th {\n",
       "        text-align: right;\n",
       "    }\n",
       "</style>\n",
       "<table border=\"1\" class=\"dataframe\">\n",
       "  <thead>\n",
       "    <tr style=\"text-align: right;\">\n",
       "      <th></th>\n",
       "      <th>CASENO</th>\n",
       "      <th>OFFENSE</th>\n",
       "      <th>CVLEGEND</th>\n",
       "      <th>BLKADDR</th>\n",
       "      <th>City</th>\n",
       "      <th>State</th>\n",
       "      <th>Day</th>\n",
       "      <th>Lat</th>\n",
       "      <th>Lon</th>\n",
       "      <th>timestamp</th>\n",
       "      <th>Hour</th>\n",
       "    </tr>\n",
       "  </thead>\n",
       "  <tbody>\n",
       "    <tr>\n",
       "      <th>4</th>\n",
       "      <td>18000630</td>\n",
       "      <td>BURGLARY AUTO</td>\n",
       "      <td>BURGLARY - VEHICLE</td>\n",
       "      <td>800 POTTER ST</td>\n",
       "      <td>Berkeley</td>\n",
       "      <td>CA</td>\n",
       "      <td>Wednesday</td>\n",
       "      <td>37.851255</td>\n",
       "      <td>-122.292509</td>\n",
       "      <td>2018-01-03 19:00:00</td>\n",
       "      <td>19</td>\n",
       "    </tr>\n",
       "    <tr>\n",
       "      <th>10</th>\n",
       "      <td>17092083</td>\n",
       "      <td>BURGLARY AUTO</td>\n",
       "      <td>BURGLARY - VEHICLE</td>\n",
       "      <td>1785 FOURTH ST</td>\n",
       "      <td>Berkeley</td>\n",
       "      <td>CA</td>\n",
       "      <td>Wednesday</td>\n",
       "      <td>37.870311</td>\n",
       "      <td>-122.300756</td>\n",
       "      <td>2017-10-18 19:00:00</td>\n",
       "      <td>19</td>\n",
       "    </tr>\n",
       "    <tr>\n",
       "      <th>20</th>\n",
       "      <td>17068151</td>\n",
       "      <td>BURGLARY AUTO</td>\n",
       "      <td>BURGLARY - VEHICLE</td>\n",
       "      <td>2700 RUSSELL ST</td>\n",
       "      <td>Berkeley</td>\n",
       "      <td>CA</td>\n",
       "      <td>Wednesday</td>\n",
       "      <td>37.858518</td>\n",
       "      <td>-122.252653</td>\n",
       "      <td>2017-11-08 19:20:00</td>\n",
       "      <td>19</td>\n",
       "    </tr>\n",
       "    <tr>\n",
       "      <th>67</th>\n",
       "      <td>17068226</td>\n",
       "      <td>THEFT MISD. (UNDER $950)</td>\n",
       "      <td>LARCENY</td>\n",
       "      <td>2000 ALLSTON WAY</td>\n",
       "      <td>Berkeley</td>\n",
       "      <td>CA</td>\n",
       "      <td>Wednesday</td>\n",
       "      <td>37.869096</td>\n",
       "      <td>-122.270137</td>\n",
       "      <td>2017-11-08 19:00:00</td>\n",
       "      <td>19</td>\n",
       "    </tr>\n",
       "    <tr>\n",
       "      <th>152</th>\n",
       "      <td>17078344</td>\n",
       "      <td>BURGLARY AUTO</td>\n",
       "      <td>BURGLARY - VEHICLE</td>\n",
       "      <td>100 SEAWALL DR</td>\n",
       "      <td>Berkeley</td>\n",
       "      <td>CA</td>\n",
       "      <td>Wednesday</td>\n",
       "      <td>37.863611</td>\n",
       "      <td>-122.317566</td>\n",
       "      <td>2017-12-27 19:00:00</td>\n",
       "      <td>19</td>\n",
       "    </tr>\n",
       "  </tbody>\n",
       "</table>\n",
       "</div>"
      ],
      "text/plain": [
       "       CASENO                   OFFENSE            CVLEGEND           BLKADDR  \\\n",
       "4    18000630             BURGLARY AUTO  BURGLARY - VEHICLE     800 POTTER ST   \n",
       "10   17092083             BURGLARY AUTO  BURGLARY - VEHICLE    1785 FOURTH ST   \n",
       "20   17068151             BURGLARY AUTO  BURGLARY - VEHICLE   2700 RUSSELL ST   \n",
       "67   17068226  THEFT MISD. (UNDER $950)             LARCENY  2000 ALLSTON WAY   \n",
       "152  17078344             BURGLARY AUTO  BURGLARY - VEHICLE    100 SEAWALL DR   \n",
       "\n",
       "         City State        Day        Lat         Lon            timestamp  \\\n",
       "4    Berkeley    CA  Wednesday  37.851255 -122.292509  2018-01-03 19:00:00   \n",
       "10   Berkeley    CA  Wednesday  37.870311 -122.300756  2017-10-18 19:00:00   \n",
       "20   Berkeley    CA  Wednesday  37.858518 -122.252653  2017-11-08 19:20:00   \n",
       "67   Berkeley    CA  Wednesday  37.869096 -122.270137  2017-11-08 19:00:00   \n",
       "152  Berkeley    CA  Wednesday  37.863611 -122.317566  2017-12-27 19:00:00   \n",
       "\n",
       "     Hour  \n",
       "4      19  \n",
       "10     19  \n",
       "20     19  \n",
       "67     19  \n",
       "152    19  "
      ]
     },
     "execution_count": 17,
     "metadata": {},
     "output_type": "execute_result"
    }
   ],
   "source": [
    "wednesday_7pm = wednesday[wednesday['Hour']==19]\n",
    "wednesday_7pm.head()"
   ]
  },
  {
   "cell_type": "code",
   "execution_count": 18,
   "metadata": {
    "scrolled": true
   },
   "outputs": [
    {
     "data": {
      "text/plain": [
       "BURGLARY AUTO               25\n",
       "THEFT MISD. (UNDER $950)    15\n",
       "VEHICLE STOLEN               4\n",
       "BURGLARY COMMERCIAL          3\n",
       "ASSAULT/BATTERY MISD.        3\n",
       "THEFT FELONY (OVER $950)     2\n",
       "ALCOHOL OFFENSE              2\n",
       "BURGLARY RESIDENTIAL         1\n",
       "NARCOTICS                    1\n",
       "DISTURBANCE                  1\n",
       "VANDALISM                    1\n",
       "Name: OFFENSE, dtype: int64"
      ]
     },
     "execution_count": 18,
     "metadata": {},
     "output_type": "execute_result"
    }
   ],
   "source": [
    "wednesday_7pm['OFFENSE'].value_counts()"
   ]
  },
  {
   "cell_type": "markdown",
   "metadata": {},
   "source": [
    "7 PM is the hour of the day on Wednesday with the higher number of crimes. Above are the common crimes during the 7pm hour."
   ]
  },
  {
   "cell_type": "code",
   "execution_count": 52,
   "metadata": {
    "scrolled": false
   },
   "outputs": [
    {
     "data": {
      "text/plain": [
       "<matplotlib.axes._subplots.AxesSubplot at 0x7f8f8cbd40f0>"
      ]
     },
     "execution_count": 52,
     "metadata": {},
     "output_type": "execute_result"
    },
    {
     "data": {
      "image/png": "[encoded data removed]",
      "text/plain": [
       "<Figure size 648x504 with 1 Axes>"
      ]
     },
     "metadata": {
      "needs_background": "light"
     },
     "output_type": "display_data"
    }
   ],
   "source": [
    "plt.figure(figsize= (9,7))\n",
    "sns.countplot(data = wednesday_7pm, y = 'OFFENSE')"
   ]
  },
  {
   "cell_type": "markdown",
   "metadata": {},
   "source": [
    "Do the crime types of a weekday resemble that of weekends? Let's see."
   ]
  },
  {
   "cell_type": "code",
   "execution_count": 20,
   "metadata": {},
   "outputs": [
    {
     "data": {
      "text/plain": [
       "0.13479125248508947"
      ]
     },
     "execution_count": 20,
     "metadata": {},
     "output_type": "execute_result"
    }
   ],
   "source": [
    "#around 13% of crimes happen on Saturdays\n",
    "len(crimes[crimes['Day'] == \"Saturday\"])/len(crimes)"
   ]
  },
  {
   "cell_type": "code",
   "execution_count": 44,
   "metadata": {
    "scrolled": true
   },
   "outputs": [
    {
     "data": {
      "text/plain": [
       "(0.141948310139165,\n",
       " 0.1493041749502982,\n",
       " 0.1550695825049702,\n",
       " 0.1489065606361829,\n",
       " 0.1463220675944334,\n",
       " 0.13479125248508947,\n",
       " 0.12365805168986084,\n",
       " 1.0)"
      ]
     },
     "execution_count": 44,
     "metadata": {},
     "output_type": "execute_result"
    }
   ],
   "source": [
    "#what about for all days? these are proportion of crimes by day\n",
    "mon = len(crimes[crimes['Day'] == \"Monday\"])/len(crimes)\n",
    "tues = len(crimes[crimes['Day'] == \"Tuesday\"])/len(crimes)\n",
    "wed = len(crimes[crimes['Day'] == \"Wednesday\"])/len(crimes)\n",
    "thurs = len(crimes[crimes['Day'] == \"Thursday\"])/len(crimes)\n",
    "fri = len(crimes[crimes['Day'] == \"Friday\"])/len(crimes)\n",
    "sat = len(crimes[crimes['Day'] == \"Saturday\"])/len(crimes)\n",
    "sun = len(crimes[crimes['Day'] == \"Sunday\"])/len(crimes)\n",
    "\n",
    "mon, tues, wed, thurs, fri, sat, sun"
   ]
  },
  {
   "cell_type": "code",
   "execution_count": 48,
   "metadata": {},
   "outputs": [
    {
     "data": {
      "text/plain": [
       "1.0"
      ]
     },
     "execution_count": 48,
     "metadata": {},
     "output_type": "execute_result"
    }
   ],
   "source": [
    "mon+tues+wed+thurs+fri+sat+sun\n",
    "#reassuringly, the weights add up to 1. No problems here!"
   ]
  },
  {
   "cell_type": "code",
   "execution_count": 22,
   "metadata": {
    "scrolled": false
   },
   "outputs": [
    {
     "name": "stdout",
     "output_type": "stream",
     "text": [
      "0.058250497017892644\n",
      "0.026640159045725646\n",
      "0.02644135188866799\n",
      "0.020874751491053677\n",
      "0.01371769383697813\n",
      "0.016699801192842943\n",
      "0.015506958250497018\n",
      "0.02186878727634195\n",
      "0.03876739562624255\n",
      "0.03558648111332008\n",
      "0.03578528827037773\n",
      "0.03757455268389662\n",
      "0.06242544731610338\n",
      "0.04095427435387674\n",
      "0.04035785288270378\n",
      "0.044532803180914515\n",
      "0.05228628230616302\n",
      "0.06620278330019881\n",
      "0.06322067594433399\n",
      "0.062027833001988074\n",
      "0.06520874751491054\n",
      "0.05208747514910537\n",
      "0.05666003976143141\n",
      "0.0463220675944334\n"
     ]
    }
   ],
   "source": [
    "#what about per hour? These are the weights of crimes per day from 0 to 23\n",
    "for i in np.arange(24):\n",
    "    print(len(crimes[crimes['Hour'] == i])/len(crimes))"
   ]
  },
  {
   "cell_type": "code",
   "execution_count": 23,
   "metadata": {
    "scrolled": true
   },
   "outputs": [
    {
     "data": {
      "text/html": [
       "<div>\n",
       "<style scoped>\n",
       "    .dataframe tbody tr th:only-of-type {\n",
       "        vertical-align: middle;\n",
       "    }\n",
       "\n",
       "    .dataframe tbody tr th {\n",
       "        vertical-align: top;\n",
       "    }\n",
       "\n",
       "    .dataframe thead th {\n",
       "        text-align: right;\n",
       "    }\n",
       "</style>\n",
       "<table border=\"1\" class=\"dataframe\">\n",
       "  <thead>\n",
       "    <tr style=\"text-align: right;\">\n",
       "      <th></th>\n",
       "      <th>CASENO</th>\n",
       "      <th>OFFENSE</th>\n",
       "      <th>CVLEGEND</th>\n",
       "      <th>BLKADDR</th>\n",
       "      <th>City</th>\n",
       "      <th>State</th>\n",
       "      <th>Day</th>\n",
       "      <th>Lat</th>\n",
       "      <th>Lon</th>\n",
       "      <th>timestamp</th>\n",
       "      <th>Hour</th>\n",
       "    </tr>\n",
       "  </thead>\n",
       "  <tbody>\n",
       "    <tr>\n",
       "      <th>2</th>\n",
       "      <td>18004102</td>\n",
       "      <td>BURGLARY COMMERCIAL</td>\n",
       "      <td>BURGLARY - COMMERCIAL</td>\n",
       "      <td>1400 SHATTUCK AVE</td>\n",
       "      <td>Berkeley</td>\n",
       "      <td>CA</td>\n",
       "      <td>Saturday</td>\n",
       "      <td>37.881957</td>\n",
       "      <td>-122.269551</td>\n",
       "      <td>2018-01-20 05:23:00</td>\n",
       "      <td>5</td>\n",
       "    </tr>\n",
       "    <tr>\n",
       "      <th>3</th>\n",
       "      <td>17065730</td>\n",
       "      <td>ALCOHOL OFFENSE</td>\n",
       "      <td>LIQUOR LAW VIOLATION</td>\n",
       "      <td>SOLANO AVENUE &amp; COLUSA AVE</td>\n",
       "      <td>Berkeley</td>\n",
       "      <td>CA</td>\n",
       "      <td>Saturday</td>\n",
       "      <td>37.891368</td>\n",
       "      <td>-122.279257</td>\n",
       "      <td>2017-10-28 20:08:00</td>\n",
       "      <td>20</td>\n",
       "    </tr>\n",
       "    <tr>\n",
       "      <th>22</th>\n",
       "      <td>17055890</td>\n",
       "      <td>BURGLARY AUTO</td>\n",
       "      <td>BURGLARY - VEHICLE</td>\n",
       "      <td>2300 DWIGHT WAY</td>\n",
       "      <td>Berkeley</td>\n",
       "      <td>CA</td>\n",
       "      <td>Saturday</td>\n",
       "      <td>37.864535</td>\n",
       "      <td>-122.262993</td>\n",
       "      <td>2017-09-16 01:00:00</td>\n",
       "      <td>1</td>\n",
       "    </tr>\n",
       "    <tr>\n",
       "      <th>31</th>\n",
       "      <td>18006916</td>\n",
       "      <td>DOMESTIC VIOLENCE</td>\n",
       "      <td>FAMILY OFFENSE</td>\n",
       "      <td>100 SEAWALL DR</td>\n",
       "      <td>Berkeley</td>\n",
       "      <td>CA</td>\n",
       "      <td>Saturday</td>\n",
       "      <td>37.863611</td>\n",
       "      <td>-122.317566</td>\n",
       "      <td>2018-02-03 12:00:00</td>\n",
       "      <td>12</td>\n",
       "    </tr>\n",
       "    <tr>\n",
       "      <th>38</th>\n",
       "      <td>17054317</td>\n",
       "      <td>NARCOTICS</td>\n",
       "      <td>DRUG VIOLATION</td>\n",
       "      <td>DWIGHT WAY &amp; SIXTH ST</td>\n",
       "      <td>Berkeley</td>\n",
       "      <td>CA</td>\n",
       "      <td>Saturday</td>\n",
       "      <td>37.859979</td>\n",
       "      <td>-122.295077</td>\n",
       "      <td>2017-09-09 21:44:00</td>\n",
       "      <td>21</td>\n",
       "    </tr>\n",
       "  </tbody>\n",
       "</table>\n",
       "</div>"
      ],
      "text/plain": [
       "      CASENO              OFFENSE               CVLEGEND  \\\n",
       "2   18004102  BURGLARY COMMERCIAL  BURGLARY - COMMERCIAL   \n",
       "3   17065730      ALCOHOL OFFENSE   LIQUOR LAW VIOLATION   \n",
       "22  17055890        BURGLARY AUTO     BURGLARY - VEHICLE   \n",
       "31  18006916    DOMESTIC VIOLENCE         FAMILY OFFENSE   \n",
       "38  17054317            NARCOTICS         DRUG VIOLATION   \n",
       "\n",
       "                       BLKADDR      City State       Day        Lat  \\\n",
       "2            1400 SHATTUCK AVE  Berkeley    CA  Saturday  37.881957   \n",
       "3   SOLANO AVENUE & COLUSA AVE  Berkeley    CA  Saturday  37.891368   \n",
       "22             2300 DWIGHT WAY  Berkeley    CA  Saturday  37.864535   \n",
       "31              100 SEAWALL DR  Berkeley    CA  Saturday  37.863611   \n",
       "38       DWIGHT WAY & SIXTH ST  Berkeley    CA  Saturday  37.859979   \n",
       "\n",
       "           Lon            timestamp  Hour  \n",
       "2  -122.269551  2018-01-20 05:23:00     5  \n",
       "3  -122.279257  2017-10-28 20:08:00    20  \n",
       "22 -122.262993  2017-09-16 01:00:00     1  \n",
       "31 -122.317566  2018-02-03 12:00:00    12  \n",
       "38 -122.295077  2017-09-09 21:44:00    21  "
      ]
     },
     "execution_count": 23,
     "metadata": {},
     "output_type": "execute_result"
    }
   ],
   "source": [
    "saturday = crimes[crimes['Day'] == 'Saturday']\n",
    "saturday.head()"
   ]
  },
  {
   "cell_type": "code",
   "execution_count": 53,
   "metadata": {
    "scrolled": false
   },
   "outputs": [
    {
     "data": {
      "text/plain": [
       "Text(0.5, 1.0, 'Crimes by Hour on Saturday')"
      ]
     },
     "execution_count": 53,
     "metadata": {},
     "output_type": "execute_result"
    },
    {
     "data": {
      "image/png": "[encoded data removed]",
      "text/plain": [
       "<Figure size 720x576 with 1 Axes>"
      ]
     },
     "metadata": {
      "needs_background": "light"
     },
     "output_type": "display_data"
    }
   ],
   "source": [
    "plt.figure(figsize = (10,8))\n",
    "crime_by_hour = sns.countplot(saturday['Hour'], color = 'black')\n",
    "plt.title('Crimes by Hour on Saturday')"
   ]
  },
  {
   "cell_type": "markdown",
   "metadata": {},
   "source": [
    "Clearly, the distribution of crimes by hour on Weekend is different from wedneday."
   ]
  },
  {
   "cell_type": "code",
   "execution_count": 25,
   "metadata": {},
   "outputs": [
    {
     "data": {
      "text/plain": [
       "BURGLARY AUTO               114\n",
       "THEFT MISD. (UNDER $950)    108\n",
       "VANDALISM                    55\n",
       "NARCOTICS                    53\n",
       "ASSAULT/BATTERY MISD.        41\n",
       "THEFT FELONY (OVER $950)     40\n",
       "BURGLARY RESIDENTIAL         37\n",
       "DISTURBANCE                  33\n",
       "VEHICLE STOLEN               33\n",
       "2ND RESPONSE                 21\n",
       "THEFT FROM AUTO              16\n",
       "ROBBERY                      15\n",
       "ALCOHOL OFFENSE              15\n",
       "DOMESTIC VIOLENCE            15\n",
       "ASSAULT/BATTERY FEL.         13\n",
       "IDENTITY THEFT               12\n",
       "BURGLARY COMMERCIAL          12\n",
       "FRAUD/FORGERY                 8\n",
       "GUN/WEAPON                    8\n",
       "SEXUAL ASSAULT FEL.           8\n",
       "MISSING ADULT                 5\n",
       "SEXUAL ASSAULT MISD.          4\n",
       "ARSON                         4\n",
       "VEHICLE RECOVERED             3\n",
       "MISSING JUVENILE              2\n",
       "BRANDISHING                   2\n",
       "DISTURBANCE - NOISE           1\n",
       "Name: OFFENSE, dtype: int64"
      ]
     },
     "execution_count": 25,
     "metadata": {},
     "output_type": "execute_result"
    }
   ],
   "source": [
    "saturday['OFFENSE'].value_counts()"
   ]
  },
  {
   "cell_type": "code",
   "execution_count": 26,
   "metadata": {},
   "outputs": [
    {
     "data": {
      "text/html": [
       "<div>\n",
       "<style scoped>\n",
       "    .dataframe tbody tr th:only-of-type {\n",
       "        vertical-align: middle;\n",
       "    }\n",
       "\n",
       "    .dataframe tbody tr th {\n",
       "        vertical-align: top;\n",
       "    }\n",
       "\n",
       "    .dataframe thead th {\n",
       "        text-align: right;\n",
       "    }\n",
       "</style>\n",
       "<table border=\"1\" class=\"dataframe\">\n",
       "  <thead>\n",
       "    <tr style=\"text-align: right;\">\n",
       "      <th></th>\n",
       "      <th>CASENO</th>\n",
       "      <th>OFFENSE</th>\n",
       "      <th>CVLEGEND</th>\n",
       "      <th>BLKADDR</th>\n",
       "      <th>City</th>\n",
       "      <th>State</th>\n",
       "      <th>Day</th>\n",
       "      <th>Lat</th>\n",
       "      <th>Lon</th>\n",
       "      <th>timestamp</th>\n",
       "      <th>Hour</th>\n",
       "    </tr>\n",
       "  </thead>\n",
       "  <tbody>\n",
       "    <tr>\n",
       "      <th>72</th>\n",
       "      <td>17091668</td>\n",
       "      <td>BURGLARY AUTO</td>\n",
       "      <td>BURGLARY - VEHICLE</td>\n",
       "      <td>200 MARINA BLVD</td>\n",
       "      <td>Berkeley</td>\n",
       "      <td>CA</td>\n",
       "      <td>Saturday</td>\n",
       "      <td>37.868667</td>\n",
       "      <td>-122.313656</td>\n",
       "      <td>2017-08-19 00:00:00</td>\n",
       "      <td>0</td>\n",
       "    </tr>\n",
       "    <tr>\n",
       "      <th>239</th>\n",
       "      <td>18090130</td>\n",
       "      <td>VANDALISM</td>\n",
       "      <td>VANDALISM</td>\n",
       "      <td>2700 LE CONTE AVE</td>\n",
       "      <td>Berkeley</td>\n",
       "      <td>CA</td>\n",
       "      <td>Saturday</td>\n",
       "      <td>37.877388</td>\n",
       "      <td>-122.256872</td>\n",
       "      <td>2018-01-06 00:00:00</td>\n",
       "      <td>0</td>\n",
       "    </tr>\n",
       "    <tr>\n",
       "      <th>367</th>\n",
       "      <td>17078055</td>\n",
       "      <td>VEHICLE STOLEN</td>\n",
       "      <td>MOTOR VEHICLE THEFT</td>\n",
       "      <td>1300 VIRGINIA ST</td>\n",
       "      <td>Berkeley</td>\n",
       "      <td>CA</td>\n",
       "      <td>Saturday</td>\n",
       "      <td>37.874095</td>\n",
       "      <td>-122.288542</td>\n",
       "      <td>2017-12-23 00:00:00</td>\n",
       "      <td>0</td>\n",
       "    </tr>\n",
       "    <tr>\n",
       "      <th>525</th>\n",
       "      <td>17055810</td>\n",
       "      <td>DISTURBANCE</td>\n",
       "      <td>DISORDERLY CONDUCT</td>\n",
       "      <td>SHATTUCK AVENUE &amp; ALLSTON WAY</td>\n",
       "      <td>Berkeley</td>\n",
       "      <td>CA</td>\n",
       "      <td>Saturday</td>\n",
       "      <td>37.869390</td>\n",
       "      <td>-122.267883</td>\n",
       "      <td>2017-09-16 00:55:00</td>\n",
       "      <td>0</td>\n",
       "    </tr>\n",
       "    <tr>\n",
       "      <th>769</th>\n",
       "      <td>17060266</td>\n",
       "      <td>THEFT MISD. (UNDER $950)</td>\n",
       "      <td>LARCENY</td>\n",
       "      <td>2100 UNIVERSITY AVE</td>\n",
       "      <td>Berkeley</td>\n",
       "      <td>CA</td>\n",
       "      <td>Saturday</td>\n",
       "      <td>37.872175</td>\n",
       "      <td>-122.267835</td>\n",
       "      <td>2017-09-16 00:00:00</td>\n",
       "      <td>0</td>\n",
       "    </tr>\n",
       "  </tbody>\n",
       "</table>\n",
       "</div>"
      ],
      "text/plain": [
       "       CASENO                   OFFENSE             CVLEGEND  \\\n",
       "72   17091668             BURGLARY AUTO   BURGLARY - VEHICLE   \n",
       "239  18090130                 VANDALISM            VANDALISM   \n",
       "367  17078055            VEHICLE STOLEN  MOTOR VEHICLE THEFT   \n",
       "525  17055810               DISTURBANCE   DISORDERLY CONDUCT   \n",
       "769  17060266  THEFT MISD. (UNDER $950)              LARCENY   \n",
       "\n",
       "                           BLKADDR      City State       Day        Lat  \\\n",
       "72                 200 MARINA BLVD  Berkeley    CA  Saturday  37.868667   \n",
       "239              2700 LE CONTE AVE  Berkeley    CA  Saturday  37.877388   \n",
       "367               1300 VIRGINIA ST  Berkeley    CA  Saturday  37.874095   \n",
       "525  SHATTUCK AVENUE & ALLSTON WAY  Berkeley    CA  Saturday  37.869390   \n",
       "769            2100 UNIVERSITY AVE  Berkeley    CA  Saturday  37.872175   \n",
       "\n",
       "            Lon            timestamp  Hour  \n",
       "72  -122.313656  2017-08-19 00:00:00     0  \n",
       "239 -122.256872  2018-01-06 00:00:00     0  \n",
       "367 -122.288542  2017-12-23 00:00:00     0  \n",
       "525 -122.267883  2017-09-16 00:55:00     0  \n",
       "769 -122.267835  2017-09-16 00:00:00     0  "
      ]
     },
     "execution_count": 26,
     "metadata": {},
     "output_type": "execute_result"
    }
   ],
   "source": [
    "saturday_12am = saturday[saturday['Hour']==0]\n",
    "saturday_12am.head()"
   ]
  },
  {
   "cell_type": "code",
   "execution_count": 27,
   "metadata": {},
   "outputs": [
    {
     "data": {
      "text/plain": [
       "BURGLARY AUTO               11\n",
       "NARCOTICS                    9\n",
       "2ND RESPONSE                 7\n",
       "THEFT MISD. (UNDER $950)     4\n",
       "ARSON                        3\n",
       "SEXUAL ASSAULT FEL.          3\n",
       "VEHICLE STOLEN               3\n",
       "VANDALISM                    3\n",
       "ASSAULT/BATTERY MISD.        3\n",
       "ASSAULT/BATTERY FEL.         2\n",
       "DISTURBANCE                  2\n",
       "BURGLARY RESIDENTIAL         2\n",
       "ROBBERY                      1\n",
       "BURGLARY COMMERCIAL          1\n",
       "GUN/WEAPON                   1\n",
       "IDENTITY THEFT               1\n",
       "Name: OFFENSE, dtype: int64"
      ]
     },
     "execution_count": 27,
     "metadata": {},
     "output_type": "execute_result"
    }
   ],
   "source": [
    "saturday_12am['OFFENSE'].value_counts()"
   ]
  },
  {
   "cell_type": "code",
   "execution_count": 54,
   "metadata": {},
   "outputs": [
    {
     "data": {
      "text/plain": [
       "<matplotlib.axes._subplots.AxesSubplot at 0x7f8f8c9c62e8>"
      ]
     },
     "execution_count": 54,
     "metadata": {},
     "output_type": "execute_result"
    },
    {
     "data": {
      "image/png": "[encoded data removed]",
      "text/plain": [
       "<Figure size 648x504 with 1 Axes>"
      ]
     },
     "metadata": {
      "needs_background": "light"
     },
     "output_type": "display_data"
    }
   ],
   "source": [
    "plt.figure(figsize = (9,7))\n",
    "sns.countplot(data = saturday_12am, y = 'OFFENSE')"
   ]
  },
  {
   "cell_type": "markdown",
   "metadata": {},
   "source": [
    "# Dummy Variables\n",
    "Now, we will add dummy variables to see whether crimes on a holiday v. a non-holiday are different."
   ]
  },
  {
   "cell_type": "code",
   "execution_count": 29,
   "metadata": {},
   "outputs": [],
   "source": [
    "crime_date = [crimes['timestamp'][i][0:10] for i in range(len(crimes['timestamp']))]\n",
    "crimes['Date'] = crime_date"
   ]
  },
  {
   "cell_type": "code",
   "execution_count": 30,
   "metadata": {},
   "outputs": [
    {
     "data": {
      "text/html": [
       "<div>\n",
       "<style scoped>\n",
       "    .dataframe tbody tr th:only-of-type {\n",
       "        vertical-align: middle;\n",
       "    }\n",
       "\n",
       "    .dataframe tbody tr th {\n",
       "        vertical-align: top;\n",
       "    }\n",
       "\n",
       "    .dataframe thead th {\n",
       "        text-align: right;\n",
       "    }\n",
       "</style>\n",
       "<table border=\"1\" class=\"dataframe\">\n",
       "  <thead>\n",
       "    <tr style=\"text-align: right;\">\n",
       "      <th></th>\n",
       "      <th>CASENO</th>\n",
       "      <th>OFFENSE</th>\n",
       "      <th>CVLEGEND</th>\n",
       "      <th>BLKADDR</th>\n",
       "      <th>City</th>\n",
       "      <th>State</th>\n",
       "      <th>Day</th>\n",
       "      <th>Lat</th>\n",
       "      <th>Lon</th>\n",
       "      <th>timestamp</th>\n",
       "      <th>Hour</th>\n",
       "      <th>Date</th>\n",
       "    </tr>\n",
       "  </thead>\n",
       "  <tbody>\n",
       "    <tr>\n",
       "      <th>0</th>\n",
       "      <td>17076632</td>\n",
       "      <td>BURGLARY AUTO</td>\n",
       "      <td>BURGLARY - VEHICLE</td>\n",
       "      <td>1300 SAN PABLO AVE</td>\n",
       "      <td>Berkeley</td>\n",
       "      <td>CA</td>\n",
       "      <td>Monday</td>\n",
       "      <td>37.880262</td>\n",
       "      <td>-122.295809</td>\n",
       "      <td>2017-12-18 09:45:00</td>\n",
       "      <td>9</td>\n",
       "      <td>2017-12-18</td>\n",
       "    </tr>\n",
       "    <tr>\n",
       "      <th>1</th>\n",
       "      <td>17092227</td>\n",
       "      <td>THEFT MISD. (UNDER $950)</td>\n",
       "      <td>LARCENY</td>\n",
       "      <td>1600 SHATTUCK AVE</td>\n",
       "      <td>Berkeley</td>\n",
       "      <td>CA</td>\n",
       "      <td>Monday</td>\n",
       "      <td>37.878112</td>\n",
       "      <td>-122.269114</td>\n",
       "      <td>2017-10-30 10:25:00</td>\n",
       "      <td>10</td>\n",
       "      <td>2017-10-30</td>\n",
       "    </tr>\n",
       "    <tr>\n",
       "      <th>2</th>\n",
       "      <td>18004102</td>\n",
       "      <td>BURGLARY COMMERCIAL</td>\n",
       "      <td>BURGLARY - COMMERCIAL</td>\n",
       "      <td>1400 SHATTUCK AVE</td>\n",
       "      <td>Berkeley</td>\n",
       "      <td>CA</td>\n",
       "      <td>Saturday</td>\n",
       "      <td>37.881957</td>\n",
       "      <td>-122.269551</td>\n",
       "      <td>2018-01-20 05:23:00</td>\n",
       "      <td>5</td>\n",
       "      <td>2018-01-20</td>\n",
       "    </tr>\n",
       "    <tr>\n",
       "      <th>3</th>\n",
       "      <td>17065730</td>\n",
       "      <td>ALCOHOL OFFENSE</td>\n",
       "      <td>LIQUOR LAW VIOLATION</td>\n",
       "      <td>SOLANO AVENUE &amp; COLUSA AVE</td>\n",
       "      <td>Berkeley</td>\n",
       "      <td>CA</td>\n",
       "      <td>Saturday</td>\n",
       "      <td>37.891368</td>\n",
       "      <td>-122.279257</td>\n",
       "      <td>2017-10-28 20:08:00</td>\n",
       "      <td>20</td>\n",
       "      <td>2017-10-28</td>\n",
       "    </tr>\n",
       "    <tr>\n",
       "      <th>4</th>\n",
       "      <td>18000630</td>\n",
       "      <td>BURGLARY AUTO</td>\n",
       "      <td>BURGLARY - VEHICLE</td>\n",
       "      <td>800 POTTER ST</td>\n",
       "      <td>Berkeley</td>\n",
       "      <td>CA</td>\n",
       "      <td>Wednesday</td>\n",
       "      <td>37.851255</td>\n",
       "      <td>-122.292509</td>\n",
       "      <td>2018-01-03 19:00:00</td>\n",
       "      <td>19</td>\n",
       "      <td>2018-01-03</td>\n",
       "    </tr>\n",
       "  </tbody>\n",
       "</table>\n",
       "</div>"
      ],
      "text/plain": [
       "     CASENO                   OFFENSE               CVLEGEND  \\\n",
       "0  17076632             BURGLARY AUTO     BURGLARY - VEHICLE   \n",
       "1  17092227  THEFT MISD. (UNDER $950)                LARCENY   \n",
       "2  18004102       BURGLARY COMMERCIAL  BURGLARY - COMMERCIAL   \n",
       "3  17065730           ALCOHOL OFFENSE   LIQUOR LAW VIOLATION   \n",
       "4  18000630             BURGLARY AUTO     BURGLARY - VEHICLE   \n",
       "\n",
       "                      BLKADDR      City State        Day        Lat  \\\n",
       "0          1300 SAN PABLO AVE  Berkeley    CA     Monday  37.880262   \n",
       "1           1600 SHATTUCK AVE  Berkeley    CA     Monday  37.878112   \n",
       "2           1400 SHATTUCK AVE  Berkeley    CA   Saturday  37.881957   \n",
       "3  SOLANO AVENUE & COLUSA AVE  Berkeley    CA   Saturday  37.891368   \n",
       "4               800 POTTER ST  Berkeley    CA  Wednesday  37.851255   \n",
       "\n",
       "          Lon            timestamp  Hour        Date  \n",
       "0 -122.295809  2017-12-18 09:45:00     9  2017-12-18  \n",
       "1 -122.269114  2017-10-30 10:25:00    10  2017-10-30  \n",
       "2 -122.269551  2018-01-20 05:23:00     5  2018-01-20  \n",
       "3 -122.279257  2017-10-28 20:08:00    20  2017-10-28  \n",
       "4 -122.292509  2018-01-03 19:00:00    19  2018-01-03  "
      ]
     },
     "execution_count": 30,
     "metadata": {},
     "output_type": "execute_result"
    }
   ],
   "source": [
    "import datetime\n",
    "date = datetime.datetime.strptime(crimes['Date'][0], '%Y-%m-%d')\n",
    "crimes.head()"
   ]
  },
  {
   "cell_type": "code",
   "execution_count": 31,
   "metadata": {},
   "outputs": [
    {
     "data": {
      "text/plain": [
       "array(['2017-12-18', '2017-10-30', '2018-01-20', '2017-10-28',\n",
       "       '2018-01-03', '2017-10-22', '2017-08-15', '2017-10-25',\n",
       "       '2017-11-29', '2017-09-14', '2017-10-18', '2018-01-25',\n",
       "       '2017-10-24', '2017-10-15', '2017-10-02', '2017-09-01',\n",
       "       '2018-01-21', '2017-12-20', '2017-11-09', '2017-11-08',\n",
       "       '2017-09-16', '2017-09-15', '2017-12-11', '2018-01-19',\n",
       "       '2018-01-29', '2017-08-22', '2017-08-29', '2018-01-04',\n",
       "       '2018-02-03', '2017-10-26', '2017-10-11', '2017-08-13',\n",
       "       '2017-09-09', '2017-10-10', '2017-10-13', '2017-11-14',\n",
       "       '2017-09-24', '2017-09-12', '2017-10-12', '2017-10-08',\n",
       "       '2017-12-31', '2017-09-19', '2017-09-17', '2017-09-28',\n",
       "       '2018-02-04', '2017-09-20', '2017-08-21', '2017-08-27',\n",
       "       '2017-09-22', '2018-01-12', '2017-12-22', '2017-11-13',\n",
       "       '2017-10-21', '2017-12-06', '2018-02-06', '2017-12-25',\n",
       "       '2017-08-19', '2017-10-29', '2017-09-08', '2017-10-20',\n",
       "       '2017-08-24', '2017-12-13', '2017-09-21', '2018-01-24',\n",
       "       '2018-01-16', '2017-11-07', '2017-11-18', '2017-09-26',\n",
       "       '2018-01-17', '2017-08-26', '2017-12-30', '2018-01-11',\n",
       "       '2017-11-21', '2017-09-05', '2017-08-23', '2017-09-25',\n",
       "       '2017-11-03', '2017-08-28', '2017-10-17', '2017-09-02',\n",
       "       '2017-12-09', '2017-10-04', '2018-01-07', '2017-12-27',\n",
       "       '2017-11-10', '2017-11-24', '2017-12-12', '2018-01-26',\n",
       "       '2018-01-14', '2017-12-16', '2017-11-16', '2017-12-05',\n",
       "       '2017-08-16', '2017-09-03', '2017-09-30', '2017-10-01',\n",
       "       '2017-12-21', '2017-11-28', '2017-12-14', '2018-01-09',\n",
       "       '2017-11-02', '2017-11-20', '2017-11-04', '2018-01-28',\n",
       "       '2017-11-05', '2017-12-15', '2017-10-16', '2017-08-14',\n",
       "       '2017-12-29', '2017-10-31', '2018-01-22', '2017-12-04',\n",
       "       '2017-10-09', '2017-08-25', '2017-12-01', '2017-09-06',\n",
       "       '2017-08-20', '2017-09-27', '2017-11-25', '2017-09-11',\n",
       "       '2017-09-18', '2017-10-05', '2017-11-01', '2018-01-10',\n",
       "       '2017-10-27', '2017-09-10', '2018-01-23', '2017-11-23',\n",
       "       '2017-09-04', '2017-12-24', '2017-12-02', '2017-09-29',\n",
       "       '2018-01-31', '2017-12-03', '2018-01-06', '2017-12-07',\n",
       "       '2017-12-08', '2017-11-06', '2017-11-17', '2017-10-19',\n",
       "       '2017-08-31', '2018-02-05', '2018-01-30', '2017-11-30',\n",
       "       '2018-01-27', '2018-01-13', '2017-12-23', '2017-11-15',\n",
       "       '2018-01-15', '2018-02-01', '2017-08-18', '2017-09-07',\n",
       "       '2017-08-30', '2017-10-14', '2018-01-18', '2017-11-11',\n",
       "       '2017-10-07', '2017-10-03', '2018-01-01', '2018-01-08',\n",
       "       '2018-01-02', '2018-02-02', '2017-11-12', '2017-10-23',\n",
       "       '2017-09-23', '2017-11-27', '2017-10-06', '2017-12-10',\n",
       "       '2017-11-26', '2017-09-13', '2018-01-05', '2017-12-26',\n",
       "       '2017-11-22', '2017-08-17', '2018-02-07', '2017-12-19',\n",
       "       '2017-11-19', '2017-12-28', '2017-12-17'], dtype=object)"
      ]
     },
     "execution_count": 31,
     "metadata": {},
     "output_type": "execute_result"
    }
   ],
   "source": [
    "unique_days = crimes['Date'].unique()\n",
    "unique_days"
   ]
  },
  {
   "cell_type": "code",
   "execution_count": 32,
   "metadata": {},
   "outputs": [
    {
     "data": {
      "text/plain": [
       "179"
      ]
     },
     "execution_count": 32,
     "metadata": {},
     "output_type": "execute_result"
    }
   ],
   "source": [
    "# there are 179 unique days in total. Note: There are only 180 total days in a school year.\n",
    "len(unique_days)"
   ]
  },
  {
   "cell_type": "code",
   "execution_count": 33,
   "metadata": {},
   "outputs": [],
   "source": [
    "holidays = ['2017-09-04', '2017-11-10', '2017-11-22',\n",
    "        '2017-11-23', '2017-11-24', '2017-12-16', '2017-12-17', \n",
    "        '2017-12-18', '2017-12-19', '2017-12-20', '2017-12-21',\n",
    "        '2017-12-22', '2017-12-23', '2017-12-24', '2017-12-25',\n",
    "        '2017-12-26', '2017-12-27', '2017-12-28', '2017-12-29',\n",
    "        '2017-12-30', '2017-12-31', '2018-01-01', '2018-01-02',\n",
    "        '2018-01-03', '2018-01-04', '2018-01-05', '2018-01-06',\n",
    "        '2018-01-07', '2018-01-08', '2018-01-09', '2018-01-10',\n",
    "        '2018-01-11', '2018-01-12', '2018-01-13', '2018-01-14',\n",
    "        '2018-01-15', '2018-01-15', '2018-02-19', '2018-03-26', \n",
    "        '2018-03-27', '2018-03-28', '2018-03-29',\n",
    "        '2018-03-30']"
   ]
  },
  {
   "cell_type": "code",
   "execution_count": 34,
   "metadata": {},
   "outputs": [],
   "source": [
    "dummy_holiday = [1 if i in holidays else 0 for i in crimes['Date']]"
   ]
  },
  {
   "cell_type": "code",
   "execution_count": 35,
   "metadata": {},
   "outputs": [
    {
     "data": {
      "text/plain": [
       "0.24022346368715083"
      ]
     },
     "execution_count": 35,
     "metadata": {},
     "output_type": "execute_result"
    }
   ],
   "source": [
    "#holidays are 24 percent of all unique days in the data.\n",
    "len(holidays)/len(unique_days)"
   ]
  },
  {
   "cell_type": "code",
   "execution_count": 36,
   "metadata": {},
   "outputs": [
    {
     "data": {
      "text/html": [
       "<div>\n",
       "<style scoped>\n",
       "    .dataframe tbody tr th:only-of-type {\n",
       "        vertical-align: middle;\n",
       "    }\n",
       "\n",
       "    .dataframe tbody tr th {\n",
       "        vertical-align: top;\n",
       "    }\n",
       "\n",
       "    .dataframe thead th {\n",
       "        text-align: right;\n",
       "    }\n",
       "</style>\n",
       "<table border=\"1\" class=\"dataframe\">\n",
       "  <thead>\n",
       "    <tr style=\"text-align: right;\">\n",
       "      <th></th>\n",
       "      <th>Holiday</th>\n",
       "    </tr>\n",
       "  </thead>\n",
       "  <tbody>\n",
       "    <tr>\n",
       "      <th>0</th>\n",
       "      <td>1</td>\n",
       "    </tr>\n",
       "    <tr>\n",
       "      <th>1</th>\n",
       "      <td>0</td>\n",
       "    </tr>\n",
       "    <tr>\n",
       "      <th>2</th>\n",
       "      <td>0</td>\n",
       "    </tr>\n",
       "    <tr>\n",
       "      <th>3</th>\n",
       "      <td>0</td>\n",
       "    </tr>\n",
       "    <tr>\n",
       "      <th>4</th>\n",
       "      <td>1</td>\n",
       "    </tr>\n",
       "  </tbody>\n",
       "</table>\n",
       "</div>"
      ],
      "text/plain": [
       "   Holiday\n",
       "0        1\n",
       "1        0\n",
       "2        0\n",
       "3        0\n",
       "4        1"
      ]
     },
     "execution_count": 36,
     "metadata": {},
     "output_type": "execute_result"
    }
   ],
   "source": [
    "crimes['Holiday'] = dummy_holiday\n",
    "crimes[['Holiday']].head()"
   ]
  },
  {
   "cell_type": "code",
   "execution_count": 37,
   "metadata": {},
   "outputs": [
    {
     "data": {
      "text/plain": [
       "1    0.176342\n",
       "Name: Holiday, dtype: float64"
      ]
     },
     "execution_count": 37,
     "metadata": {},
     "output_type": "execute_result"
    }
   ],
   "source": [
    "# approximately 16% of crimes happen on University Holidays\n",
    "crimes[crimes['Holiday']==1]['Holiday'].value_counts()/len(crimes)"
   ]
  },
  {
   "cell_type": "code",
   "execution_count": 55,
   "metadata": {
    "scrolled": false
   },
   "outputs": [
    {
     "data": {
      "text/plain": [
       "<matplotlib.axes._subplots.AxesSubplot at 0x7f8f8c885e48>"
      ]
     },
     "execution_count": 55,
     "metadata": {},
     "output_type": "execute_result"
    },
    {
     "data": {
      "image/png": "[encoded data removed]",
      "text/plain": [
       "<Figure size 648x504 with 1 Axes>"
      ]
     },
     "metadata": {
      "needs_background": "light"
     },
     "output_type": "display_data"
    }
   ],
   "source": [
    "holiday_crimes = crimes[crimes['Holiday']==1]\n",
    "non_holiday_crimes = crimes[crimes['Holiday']==0]\n",
    "plt.figure(figsize = (9,7))\n",
    "sns.countplot(data = holiday_crimes, y = 'OFFENSE')"
   ]
  },
  {
   "cell_type": "code",
   "execution_count": 39,
   "metadata": {},
   "outputs": [
    {
     "data": {
      "text/plain": [
       "BURGLARY AUTO               0.229989\n",
       "THEFT MISD. (UNDER $950)    0.148816\n",
       "VANDALISM                   0.084555\n",
       "BURGLARY RESIDENTIAL        0.059752\n",
       "VEHICLE STOLEN              0.057497\n",
       "DISTURBANCE                 0.045096\n",
       "THEFT FELONY (OVER $950)    0.043968\n",
       "THEFT FROM AUTO             0.037204\n",
       "NARCOTICS                   0.037204\n",
       "ASSAULT/BATTERY MISD.       0.036077\n",
       "ROBBERY                     0.033822\n",
       "IDENTITY THEFT              0.025930\n",
       "DOMESTIC VIOLENCE           0.024803\n",
       "BURGLARY COMMERCIAL         0.022548\n",
       "FRAUD/FORGERY               0.020293\n",
       "ASSAULT/BATTERY FEL.        0.014656\n",
       "ARSON                       0.014656\n",
       "MISSING ADULT               0.013529\n",
       "ALCOHOL OFFENSE             0.010147\n",
       "THEFT FROM PERSON           0.007892\n",
       "BRANDISHING                 0.006764\n",
       "GUN/WEAPON                  0.006764\n",
       "SEXUAL ASSAULT MISD.        0.005637\n",
       "SEXUAL ASSAULT FEL.         0.004510\n",
       "MISSING JUVENILE            0.002255\n",
       "VEHICLE RECOVERED           0.002255\n",
       "KIDNAPPING                  0.001127\n",
       "DISTURBANCE - NOISE         0.001127\n",
       "2ND RESPONSE                0.001127\n",
       "Name: OFFENSE, dtype: float64"
      ]
     },
     "execution_count": 39,
     "metadata": {},
     "output_type": "execute_result"
    }
   ],
   "source": [
    "holiday_offenses = holiday_crimes['OFFENSE'].value_counts().sort_values(ascending = False)\n",
    "holiday_offenses/len(holiday_crimes)"
   ]
  },
  {
   "cell_type": "code",
   "execution_count": 56,
   "metadata": {
    "scrolled": false
   },
   "outputs": [
    {
     "data": {
      "text/plain": [
       "<matplotlib.axes._subplots.AxesSubplot at 0x7f8f8c921780>"
      ]
     },
     "execution_count": 56,
     "metadata": {},
     "output_type": "execute_result"
    },
    {
     "data": {
      "image/png": "[encoded data removed]",
      "text/plain": [
       "<Figure size 648x504 with 1 Axes>"
      ]
     },
     "metadata": {
      "needs_background": "light"
     },
     "output_type": "display_data"
    }
   ],
   "source": [
    "plt.figure(figsize = (9,7))\n",
    "sns.countplot(data = non_holiday_crimes, y = 'OFFENSE')"
   ]
  },
  {
   "cell_type": "code",
   "execution_count": 41,
   "metadata": {},
   "outputs": [
    {
     "data": {
      "text/plain": [
       "BURGLARY AUTO               0.191166\n",
       "THEFT MISD. (UNDER $950)    0.162443\n",
       "VANDALISM                   0.076032\n",
       "DISTURBANCE                 0.071929\n",
       "VEHICLE STOLEN              0.057205\n",
       "BURGLARY RESIDENTIAL        0.055033\n",
       "THEFT FELONY (OVER $950)    0.051895\n",
       "ASSAULT/BATTERY MISD.       0.050688\n",
       "NARCOTICS                   0.044895\n",
       "ROBBERY                     0.034516\n",
       "ALCOHOL OFFENSE             0.025103\n",
       "FRAUD/FORGERY               0.021482\n",
       "BURGLARY COMMERCIAL         0.021241\n",
       "THEFT FROM AUTO             0.021241\n",
       "IDENTITY THEFT              0.021241\n",
       "DOMESTIC VIOLENCE           0.019068\n",
       "ASSAULT/BATTERY FEL.        0.014965\n",
       "2ND RESPONSE                0.008931\n",
       "MISSING ADULT               0.007965\n",
       "SEXUAL ASSAULT FEL.         0.007724\n",
       "GUN/WEAPON                  0.006034\n",
       "VEHICLE RECOVERED           0.005793\n",
       "SEXUAL ASSAULT MISD.        0.005069\n",
       "BRANDISHING                 0.004827\n",
       "THEFT FROM PERSON           0.004827\n",
       "ARSON                       0.004103\n",
       "MISSING JUVENILE            0.002655\n",
       "MUNICIPAL CODE              0.001690\n",
       "VICE                        0.000241\n",
       "Name: OFFENSE, dtype: float64"
      ]
     },
     "execution_count": 41,
     "metadata": {},
     "output_type": "execute_result"
    }
   ],
   "source": [
    "non_holiday_offenses = non_holiday_crimes['OFFENSE'].value_counts().sort_values(ascending = False)\n",
    "non_holiday_offenses/len(non_holiday_crimes)"
   ]
  },
  {
   "cell_type": "markdown",
   "metadata": {},
   "source": [
    "**The top 5 crimes (BY PROPORTION) for holidays are:**\n",
    "1. Burglary Auto\n",
    "2. Theft MISD\n",
    "3. Alcohol Offense\n",
    "4. Burglary residential\n",
    "5. Vehicle Stolen\n",
    "6. Disturbance\n",
    "7. Theft Felony\n",
    "\n",
    "**The top 5 crimes for non-holidays are:**\n",
    "1. Burglary auto (same)\n",
    "2. Theft Misd (same)\n",
    "3. Vandalism\n",
    "4. Disturbance\n",
    "5. Vehicle Stolen\n",
    "6. Burglary residential\n",
    "7. Theft Felony (same)"
   ]
  },
  {
   "cell_type": "code",
   "execution_count": 57,
   "metadata": {},
   "outputs": [
    {
     "data": {
      "text/plain": [
       "Text(0.5, 1.0, 'Crimes by Hour on Holidays')"
      ]
     },
     "execution_count": 57,
     "metadata": {},
     "output_type": "execute_result"
    },
    {
     "data": {
      "image/png": "[encoded data removed]",
      "text/plain": [
       "<Figure size 648x504 with 1 Axes>"
      ]
     },
     "metadata": {
      "needs_background": "light"
     },
     "output_type": "display_data"
    }
   ],
   "source": [
    "plt.figure(figsize = (9,7))\n",
    "crime_by_holiday = sns.countplot(holiday_crimes[\"Hour\"], color = 'Blue')\n",
    "plt.title('Crimes by Hour on Holidays')"
   ]
  },
  {
   "cell_type": "code",
   "execution_count": 58,
   "metadata": {},
   "outputs": [
    {
     "data": {
      "text/plain": [
       "Text(0.5, 1.0, 'Crimes by Hour on Non-Holidays')"
      ]
     },
     "execution_count": 58,
     "metadata": {},
     "output_type": "execute_result"
    },
    {
     "data": {
      "image/png": "[encoded data removed]",
      "text/plain": [
       "<Figure size 648x504 with 1 Axes>"
      ]
     },
     "metadata": {
      "needs_background": "light"
     },
     "output_type": "display_data"
    }
   ],
   "source": [
    "plt.figure(figsize = (9,7))\n",
    "crime_by_holiday = sns.countplot(non_holiday_crimes[\"Hour\"], color = 'Green')\n",
    "plt.title('Crimes by Hour on Non-Holidays')"
   ]
  },
  {
   "cell_type": "markdown",
   "metadata": {},
   "source": [
    "As can be seen, the distribution of crimes by hour are very similar, with most crimes happening at late afternoon and night."
   ]
  },
  {
   "cell_type": "markdown",
   "metadata": {},
   "source": [
    "# EDA: Summary of Findings"
   ]
  },
  {
   "cell_type": "markdown",
   "metadata": {},
   "source": [
    "Throughout our EDA, we looked for differences in crimes and crime rate by the \"OFFENSE\" feature as well as the distribution of crimes throughout the hours of the day.\n",
    "\n",
    "* The most common crime types overall (regardless of conditions like holiday) are: Burglary, Theft Misdimeanor, Vandalism, Disturbance, Vehicle Stolen, making up around 55% of all crimes.\n",
    "\n",
    "* Our second finding is that more crimes happen during (every) weekdays than (any) weekends. The most common day for crime is Wednesday (hump day!)\n",
    "\n",
    "* The distribution of crime on a weekday like Wedneday and  a weekend day like saturday are drastically different. Most crimes occur in late afternoon and early evening for Wednesday while on Saturday more crimes happen are 12 AM and early early morning than the former.\n",
    "\n",
    "Next, we created new dummary variables that has value 1 if the day is a University Holiday and 0 otherwise. Here are some of our findings.\n",
    "\n",
    "* Around 16% of all crimes happen on holidays while the number of university holidays in a year is only 24% of all unique dates (only 179 days) on the data set. This suggests that holidays has disproportionately less crimes than non-holidays.\n",
    "* The distribution of crimes by hour on holidays vs. non-holidays are very similar: Left skewed distribution with an outlier at midnight.\n",
    "* The top two crimes for holidays and non-holidays are the same: Burglary auto and theft misdemeanor. Vehicle stolen ranks #5 for both. Alcohol offense is number 3 for holidays but does not appear in top 7 for non-holidays. Vandalism is #3 for non-holidays but does not appear in top 7 for holidays."
   ]
  }
 ],
 "metadata": {
  "kernelspec": {
   "display_name": "Python 3",
   "language": "python",
   "name": "python3"
  },
  "language_info": {
   "codemirror_mode": {
    "name": "ipython",
    "version": 3
   },
   "file_extension": ".py",
   "mimetype": "text/x-python",
   "name": "python",
   "nbconvert_exporter": "python",
   "pygments_lexer": "ipython3",
   "version": "3.6.8"
  }
 },
 "nbformat": 4,
 "nbformat_minor": 2
}
